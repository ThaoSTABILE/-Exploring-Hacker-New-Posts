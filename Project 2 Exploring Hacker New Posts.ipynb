{
 "cells": [
  {
   "cell_type": "markdown",
   "metadata": {},
   "source": [
    "## Project 2 : Exploring Hacker New Posts\n",
    "\n",
    "Target: \n",
    "\n",
    "- Do Ask HN or Show HN receive more comments on average?\n",
    "- Do posts created at a certain time receive more comments on average?\n",
    "\n",
    "Source: https://www.kaggle.com/hacker-news/hacker-news-posts\n",
    "\n",
    "#### I. Openning data"
   ]
  },
  {
   "cell_type": "code",
   "execution_count": 4,
   "metadata": {},
   "outputs": [
    {
     "name": "stdout",
     "output_type": "stream",
     "text": [
      "['id', 'title', 'url', 'num_points', 'num_comments', 'author', 'created_at']\n",
      "\n",
      "\n"
     ]
    }
   ],
   "source": [
    "from csv import reader\n",
    "openned_file = open(\"hacker_news.csv\", encoding = 'utf8')\n",
    "read_file = reader(openned_file)\n",
    "hn = list(read_file)\n",
    "hn_header = hn[0]\n",
    "hn = hn[1:]\n",
    "\n"
   ]
  },
  {
   "cell_type": "code",
   "execution_count": 2,
   "metadata": {},
   "outputs": [],
   "source": [
    "def explore(a_list,start,end):\n",
    "    data_slice = a_list[start:end]\n",
    "    for row in data_slice:\n",
    "        print(row)\n",
    "        print('\\n')\n",
    "    print('Number of rows:', len(a_list))\n",
    "    print('Number of column:',len(a_list[0]))"
   ]
  },
  {
   "cell_type": "code",
   "execution_count": 5,
   "metadata": {},
   "outputs": [
    {
     "name": "stdout",
     "output_type": "stream",
     "text": [
      "['id', 'title', 'url', 'num_points', 'num_comments', 'author', 'created_at']\n",
      "\n",
      "\n",
      "['12579008', 'You have two days to comment if you want stem cells to be classified as your own', 'http://www.regulations.gov/document?D=FDA-2015-D-3719-0018', '1', '0', 'altstar', '9/26/2016 3:26']\n",
      "\n",
      "\n",
      "['12579005', 'SQLAR  the SQLite Archiver', 'https://www.sqlite.org/sqlar/doc/trunk/README.md', '1', '0', 'blacksqr', '9/26/2016 3:24']\n",
      "\n",
      "\n",
      "Number of rows: 293119\n",
      "Number of column: 7\n"
     ]
    }
   ],
   "source": [
    "print(hn_header)\n",
    "print('\\n')\n",
    "explore(hn,0,2)"
   ]
  },
  {
   "cell_type": "markdown",
   "metadata": {},
   "source": [
    "### II. Cleaning data"
   ]
  },
  {
   "cell_type": "code",
   "execution_count": 10,
   "metadata": {},
   "outputs": [
    {
     "name": "stdout",
     "output_type": "stream",
     "text": [
      "['12578908', 'Ask HN: What TLD do you use for local development?', '', '4', '7', 'Sevrene', '9/26/2016 2:53']\n",
      "\n",
      "\n",
      "Number of rows: 9139\n",
      "Number of column: 7\n",
      "\n",
      "\n",
      "['12578335', 'Show HN: Finding puns computationally', 'http://puns.samueltaylor.org/', '2', '0', 'saamm', '9/26/2016 0:36']\n",
      "\n",
      "\n",
      "Number of rows: 10158\n",
      "Number of column: 7\n",
      "\n",
      "\n",
      "['12579008', 'You have two days to comment if you want stem cells to be classified as your own', 'http://www.regulations.gov/document?D=FDA-2015-D-3719-0018', '1', '0', 'altstar', '9/26/2016 3:26']\n",
      "\n",
      "\n",
      "Number of rows: 273822\n",
      "Number of column: 7\n"
     ]
    }
   ],
   "source": [
    "ask = []\n",
    "show = []\n",
    "other = []\n",
    "for row in hn:\n",
    "    title = row[1]\n",
    "    if title.lower().startswith('ask hn'):\n",
    "        ask.append(row)\n",
    "    elif title.lower().startswith('show hn'):\n",
    "        show.append(row)\n",
    "    else:\n",
    "        other.append(row)\n",
    "explore(ask,0,1)\n",
    "print('\\n')\n",
    "explore(show,0,1)\n",
    "print('\\n')\n",
    "explore(other,0,1)"
   ]
  },
  {
   "cell_type": "markdown",
   "metadata": {},
   "source": [
    "### III.Data analysis\n",
    "\n",
    "Calculate the average number of comments:"
   ]
  },
  {
   "cell_type": "code",
   "execution_count": 9,
   "metadata": {},
   "outputs": [
    {
     "name": "stdout",
     "output_type": "stream",
     "text": [
      "['id', 'title', 'url', 'num_points', 'num_comments', 'author', 'created_at']\n"
     ]
    }
   ],
   "source": [
    "print(hn_header)"
   ]
  },
  {
   "cell_type": "code",
   "execution_count": 16,
   "metadata": {},
   "outputs": [],
   "source": [
    "def avg_comment(a_list):\n",
    "    total_comments = 0\n",
    "    for row in a_list:\n",
    "        num_comments = float(row[4])\n",
    "        total_comments += num_comments\n",
    "    avg_comment = total_comments/len(a_list)\n",
    "    return round(avg_comment,2)    "
   ]
  },
  {
   "cell_type": "code",
   "execution_count": 17,
   "metadata": {},
   "outputs": [
    {
     "name": "stdout",
     "output_type": "stream",
     "text": [
      "The average number of comment on ask posts: 10.39\n",
      "The average number of comment on show posts: 4.89\n",
      "The average number of comment on other posts: 6.46\n",
      "The average number of comment on all posts: 6.53\n"
     ]
    }
   ],
   "source": [
    "print('The average number of comment on ask posts:',avg_comment(ask))\n",
    "print('The average number of comment on show posts:',avg_comment(show))\n",
    "print('The average number of comment on other posts:',avg_comment(other))\n",
    "print('The average number of comment on all posts:',avg_comment(hn))"
   ]
  },
  {
   "cell_type": "markdown",
   "metadata": {},
   "source": [
    "We can see that ask posts receive on average about 2 times more comments than show posts"
   ]
  },
  {
   "cell_type": "code",
   "execution_count": 18,
   "metadata": {},
   "outputs": [
    {
     "name": "stdout",
     "output_type": "stream",
     "text": [
      "['id', 'title', 'url', 'num_points', 'num_comments', 'author', 'created_at']\n"
     ]
    }
   ],
   "source": [
    "print(hn_header)"
   ]
  },
  {
   "cell_type": "code",
   "execution_count": 40,
   "metadata": {},
   "outputs": [],
   "source": [
    "def select1(a_list,index_p_c):\n",
    "    list_selected = []\n",
    "    for row in a_list:\n",
    "        created = row[-1]\n",
    "        num = row[index_p_c]\n",
    "        list_selected.append([created,num])\n",
    "    return list_selected\n",
    "\n",
    "ask_list_c = select1(ask,4)\n",
    "\n",
    "        \n",
    "        "
   ]
  },
  {
   "cell_type": "code",
   "execution_count": 41,
   "metadata": {},
   "outputs": [
    {
     "name": "stdout",
     "output_type": "stream",
     "text": [
      "['9/26/2016 2:53', '7']\n",
      "\n",
      "\n",
      "['9/26/2016 1:17', '3']\n",
      "\n",
      "\n",
      "Number of rows: 9139\n",
      "Number of column: 2\n",
      "['9/26/2016 2:53', '4']\n",
      "\n",
      "\n",
      "['9/26/2016 1:17', '6']\n",
      "\n",
      "\n",
      "Number of rows: 9139\n",
      "Number of column: 2\n"
     ]
    }
   ],
   "source": [
    "explore(ask_list_c,0,2)\n",
    "explore(ask_list_p,0,2)"
   ]
  },
  {
   "cell_type": "code",
   "execution_count": 42,
   "metadata": {},
   "outputs": [],
   "source": [
    "import datetime as dt\n",
    "def avg1(a_list):\n",
    "    counts_by_hour = {}\n",
    "    total_by_hour = {}\n",
    "    for row in a_list:\n",
    "        date = row[0]\n",
    "        num = float(row[1])\n",
    "        date_dt = dt.datetime.strptime(date,'%m/%d/%Y %H:%M')\n",
    "        hour_dt = dt.datetime.strftime(date_dt,'%H')\n",
    "        if hour_dt not in counts_by_hour:\n",
    "            counts_by_hour[hour_dt] = 1\n",
    "            total_by_hour[hour_dt] = num\n",
    "        else:\n",
    "            counts_by_hour[hour_dt] += 1\n",
    "            total_by_hour[hour_dt] += num\n",
    "    avg_hour = []\n",
    "    for hour in counts_by_hour:\n",
    "        avg_posts = round(total_by_hour[hour]/counts_by_hour[hour],2)\n",
    "        avg_hour.append([avg_posts,hour])\n",
    "    return avg_hour"
   ]
  },
  {
   "cell_type": "code",
   "execution_count": 43,
   "metadata": {},
   "outputs": [
    {
     "name": "stdout",
     "output_type": "stream",
     "text": [
      "[[11.14, '02'], [7.41, '01'], [8.8, '22'], [8.69, '21'], [7.16, '19'], [9.45, '17'], [28.68, '15'], [9.69, '14'], [16.32, '13'], [8.96, '11'], [10.68, '10'], [6.65, '09'], [7.01, '07'], [7.95, '03'], [6.7, '23'], [8.75, '20'], [7.71, '16'], [9.19, '08'], [7.56, '00'], [7.94, '18'], [12.38, '12'], [9.71, '04'], [6.78, '06'], [8.79, '05']]\n"
     ]
    }
   ],
   "source": [
    "avg_comment_ask = avg1(ask_list_c)\n",
    "print(avg_comment_ask)"
   ]
  },
  {
   "cell_type": "code",
   "execution_count": 49,
   "metadata": {},
   "outputs": [
    {
     "name": "stdout",
     "output_type": "stream",
     "text": [
      "15:00 have 28.68 average comments per post Ask HN\n",
      "13:00 have 16.32 average comments per post Ask HN\n",
      "12:00 have 12.38 average comments per post Ask HN\n",
      "02:00 have 11.14 average comments per post Ask HN\n",
      "10:00 have 10.68 average comments per post Ask HN\n"
     ]
    }
   ],
   "source": [
    "def list_sorted(a_list,p_or_c, ask_sh):\n",
    "    listsorted = sorted(a_list, reverse = True)\n",
    "    for element in listsorted[:5]:\n",
    "        print('{}:00 have {} average {} per post {}'.format(element[1],element[0],p_or_c,ask_sh))\n",
    "list_sorted(avg_comment_ask,'comments','Ask HN')"
   ]
  },
  {
   "cell_type": "code",
   "execution_count": 50,
   "metadata": {},
   "outputs": [
    {
     "name": "stdout",
     "output_type": "stream",
     "text": [
      "15:00 have 21.64 average points per post Ask HN\n",
      "13:00 have 17.93 average points per post Ask HN\n",
      "12:00 have 13.58 average points per post Ask HN\n",
      "10:00 have 13.44 average points per post Ask HN\n",
      "17:00 have 12.19 average points per post Ask HN\n"
     ]
    }
   ],
   "source": [
    "point_ask = select1(ask,3)\n",
    "avg_point_ask = avg1(point_ask)\n",
    "list_sorted(avg_point_ask,'points','Ask HN')"
   ]
  },
  {
   "cell_type": "code",
   "execution_count": 51,
   "metadata": {},
   "outputs": [
    {
     "name": "stdout",
     "output_type": "stream",
     "text": [
      "12:00 have 20.91 average points per post Show HN\n",
      "11:00 have 19.26 average points per post Show HN\n",
      "13:00 have 17.02 average points per post Show HN\n",
      "19:00 have 16.06 average points per post Show HN\n",
      "06:00 have 15.99 average points per post Show HN\n"
     ]
    }
   ],
   "source": [
    "point_show = select1(show,3)\n",
    "avg_point_show = avg1(point_show)\n",
    "list_sorted(avg_point_show,'points','Show HN')"
   ]
  },
  {
   "cell_type": "code",
   "execution_count": 53,
   "metadata": {},
   "outputs": [
    {
     "name": "stdout",
     "output_type": "stream",
     "text": [
      "12:00 have 6.99 average comments per post Show HN\n",
      "07:00 have 6.68 average comments per post Show HN\n",
      "11:00 have 6.0 average comments per post Show HN\n",
      "08:00 have 5.6 average comments per post Show HN\n",
      "14:00 have 5.52 average comments per post Show HN\n"
     ]
    }
   ],
   "source": [
    "comments_show = select1(show,4)\n",
    "avg_comments_show = avg1(comments_show)\n",
    "list_sorted(avg_comments_show,'comments','Show HN')"
   ]
  },
  {
   "cell_type": "code",
   "execution_count": 54,
   "metadata": {},
   "outputs": [
    {
     "name": "stdout",
     "output_type": "stream",
     "text": [
      "12:00 have 7.59 average comments per post Other\n",
      "11:00 have 7.37 average comments per post Other\n",
      "02:00 have 7.18 average comments per post Other\n",
      "13:00 have 7.15 average comments per post Other\n",
      "05:00 have 6.79 average comments per post Other\n"
     ]
    }
   ],
   "source": [
    "comments_other = select1(other,4)\n",
    "avg_comments_other = avg1(comments_other)\n",
    "list_sorted(avg_comments_other,'comments','Other')"
   ]
  },
  {
   "cell_type": "code",
   "execution_count": 55,
   "metadata": {},
   "outputs": [
    {
     "name": "stdout",
     "output_type": "stream",
     "text": [
      "02:00 have 16.71 average points per post Other\n",
      "12:00 have 16.7 average points per post Other\n",
      "11:00 have 16.29 average points per post Other\n",
      "00:00 have 16.12 average points per post Other\n",
      "13:00 have 16.02 average points per post Other\n"
     ]
    }
   ],
   "source": [
    "points_other = select1(other,3)\n",
    "avg_points_other = avg1(points_other)\n",
    "list_sorted(avg_points_other,'points','Other')"
   ]
  },
  {
   "cell_type": "code",
   "execution_count": 56,
   "metadata": {},
   "outputs": [
    {
     "name": "stdout",
     "output_type": "stream",
     "text": [
      "12:00 have 7.69 average comments per post All\n",
      "11:00 have 7.37 average comments per post All\n",
      "13:00 have 7.34 average comments per post All\n",
      "02:00 have 7.27 average comments per post All\n",
      "15:00 have 7.05 average comments per post All\n"
     ]
    }
   ],
   "source": [
    "comments_all = select1(hn,4)\n",
    "avg_comments_all = avg1(comments_all)\n",
    "list_sorted(avg_comments_all,'comments','All')"
   ]
  },
  {
   "cell_type": "code",
   "execution_count": 57,
   "metadata": {},
   "outputs": [
    {
     "name": "stdout",
     "output_type": "stream",
     "text": [
      "12:00 have 16.79 average points per post All\n",
      "02:00 have 16.41 average points per post All\n",
      "11:00 have 16.19 average points per post All\n",
      "13:00 have 16.11 average points per post All\n",
      "00:00 have 15.88 average points per post All\n"
     ]
    }
   ],
   "source": [
    "points_all = select1(hn,3)\n",
    "avg_points_all = avg1(points_all)\n",
    "list_sorted(avg_points_all,'points','All')"
   ]
  },
  {
   "cell_type": "markdown",
   "metadata": {},
   "source": [
    "### Conclusions:\n",
    "- Ask posts receive on average about 2 times more comments than show posts\n",
    "- We shoul submit in between 12:00 and 16:00 for ask posts and between 11:00 and 13:00 for show posts"
   ]
  }
 ],
 "metadata": {
  "kernelspec": {
   "display_name": "Python 3 (ipykernel)",
   "language": "python",
   "name": "python3"
  },
  "language_info": {
   "codemirror_mode": {
    "name": "ipython",
    "version": 3
   },
   "file_extension": ".py",
   "mimetype": "text/x-python",
   "name": "python",
   "nbconvert_exporter": "python",
   "pygments_lexer": "ipython3",
   "version": "3.9.7"
  }
 },
 "nbformat": 4,
 "nbformat_minor": 4
}
